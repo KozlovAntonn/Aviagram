{
 "cells": [
  {
   "cell_type": "code",
   "execution_count": 22,
   "metadata": {},
   "outputs": [],
   "source": [
    "import requests\n",
    "import json\n",
    "\n",
    "def autocomplete_cities(lang, text):\n",
    "    # en — English, ru — Russian\n",
    "    url = f\"https://autocomplete.travelpayouts.com/places2?locale={lang}&types[]=airport&types[]=city&term={text}\"\n",
    "    response = requests.get(url)\n",
    "    if response.status_code == 200:\n",
    "        return response.json()  # Преобразовываем ответ в JSON\n",
    "    else:\n",
    "        print(f\"Ошибка при выполнении запроса: {response.status_code}\")\n",
    "        return None\n",
    "    \n",
    "    return_list = []\n",
    "    for element in data:\n",
    "        type = element['type']\n",
    "\n",
    "        if type == \"city\":\n",
    "            city = element['name']\n",
    "            country = element['country_name']\n",
    "            code = f\"({element['code']})\"\n",
    "            return_list.append(f\"{city}, {country} {code}\")\n",
    "\n",
    "        elif type == \"airport\":\n",
    "            city = element['city_name']\n",
    "            country = element['country_name']\n",
    "            code = f\"({element['code']})\"\n",
    "            airport_name = element['name']\n",
    "            return_list.append(f\"{city} {airport_name}, {country} {code}\")\n",
    "    return return_list\n",
    "    \n",
    "    \n",
    "\n",
    "city_variants = autocomplete_cities(\"ru\", \"lond\")\n",
    "if city_variants is not None:\n",
    "    with open('data.json', 'w', encoding='utf-8') as f:\n",
    "        json.dump(city_variants, f, ensure_ascii=False, indent=4)  # Сохраняем в файл с форматированием\n"
   ]
  },
  {
   "cell_type": "code",
   "execution_count": 17,
   "metadata": {},
   "outputs": [
    {
     "name": "stdout",
     "output_type": "stream",
     "text": [
      "[{'id': 'a923c2c7-e883-4e9c-a7ea-566d24112a2f', 'type': 'city', 'code': 'MOW', 'name': 'Москва', 'country_code': 'RU', 'country_name': 'Россия', 'state_code': None, 'coordinates': {'lon': 37.617633, 'lat': 55.755786}, 'index_strings': [], 'weight': 2145226, 'cases': {'vi': 'в Москву', 'tv': 'Москвой', 'su': 'Москва', 'ro': 'Москвы', 'pr': 'Москве', 'da': 'Москве'}, 'country_cases': {'vi': 'в Россию', 'tv': 'Россией', 'su': 'Россия', 'ro': 'России', 'pr': 'России', 'da': 'России'}, 'main_airport_name': None}, {'id': 'b5c20512-e9b0-4bc9-833c-0d59c14abe95', 'type': 'airport', 'code': 'DME', 'name': 'Домодедово', 'country_code': 'RU', 'country_name': 'Россия', 'city_code': 'MOW', 'city_name': 'Москва', 'state_code': None, 'coordinates': {'lon': 37.899494, 'lat': 55.414566}, 'index_strings': [], 'weight': 312906, 'cases': None, 'city_cases': {'vi': 'в Москву', 'tv': 'Москвой', 'su': 'Москва', 'ro': 'Москвы', 'pr': 'Москве', 'da': 'Москве'}, 'country_cases': {'vi': 'в Россию', 'tv': 'Россией', 'su': 'Россия', 'ro': 'России', 'pr': 'России', 'da': 'России'}}, {'id': '4533becc-db20-4881-86b8-9de095bf769e', 'type': 'airport', 'code': 'SVO', 'name': 'Шереметьево', 'country_code': 'RU', 'country_name': 'Россия', 'city_code': 'MOW', 'city_name': 'Москва', 'state_code': None, 'coordinates': {'lon': 37.416573, 'lat': 55.966324}, 'index_strings': [], 'weight': 634878, 'cases': None, 'city_cases': {'vi': 'в Москву', 'tv': 'Москвой', 'su': 'Москва', 'ro': 'Москвы', 'pr': 'Москве', 'da': 'Москве'}, 'country_cases': {'vi': 'в Россию', 'tv': 'Россией', 'su': 'Россия', 'ro': 'России', 'pr': 'России', 'da': 'России'}}, {'id': '1240c312-d0b3-4c55-a9d0-e4fc6a529b9b', 'type': 'airport', 'code': 'VKO', 'name': 'Внуково', 'country_code': 'RU', 'country_name': 'Россия', 'city_code': 'MOW', 'city_name': 'Москва', 'state_code': None, 'coordinates': {'lon': 37.2921, 'lat': 55.60315}, 'index_strings': [], 'weight': 453989, 'cases': None, 'city_cases': {'vi': 'в Москву', 'tv': 'Москвой', 'su': 'Москва', 'ro': 'Москвы', 'pr': 'Москве', 'da': 'Москве'}, 'country_cases': {'vi': 'в Россию', 'tv': 'Россией', 'su': 'Россия', 'ro': 'России', 'pr': 'России', 'da': 'России'}}, {'id': '1ce49c7a-721f-4bfa-80fd-40f198cc43cb', 'type': 'airport', 'code': 'ZIA', 'name': 'Жуковский', 'country_code': 'RU', 'country_name': 'Россия', 'city_code': 'MOW', 'city_name': 'Москва', 'state_code': None, 'coordinates': {'lon': 38.1419636, 'lat': 55.5690146}, 'index_strings': [], 'weight': 42893, 'cases': None, 'city_cases': {'vi': 'в Москву', 'tv': 'Москвой', 'su': 'Москва', 'ro': 'Москвы', 'pr': 'Москве', 'da': 'Москве'}, 'country_cases': {'vi': 'в Россию', 'tv': 'Россией', 'su': 'Россия', 'ro': 'России', 'pr': 'России', 'da': 'России'}}, {'id': '7ef0023f-d626-42e7-9c6f-bdca16164dfe', 'type': 'city', 'code': 'PUW', 'name': 'Пулман', 'country_code': 'US', 'country_name': 'США', 'state_code': 'WA', 'coordinates': {'lon': -117.105, 'lat': 46.74472}, 'index_strings': [], 'weight': 8, 'cases': {'vi': 'в Пулман', 'tv': 'Пулманом', 'su': 'Пулман', 'ro': 'Пулмана', 'pr': 'Пулмане', 'da': 'Пулману'}, 'country_cases': {'vi': 'в США', 'tv': 'США', 'su': 'США', 'ro': 'США', 'pr': 'США', 'da': 'США'}, 'main_airport_name': 'Пульман'}]\n"
     ]
    }
   ],
   "source": [
    "print(city_variants)"
   ]
  },
  {
   "cell_type": "code",
   "execution_count": 24,
   "metadata": {},
   "outputs": [
    {
     "name": "stdout",
     "output_type": "stream",
     "text": [
      "['Лондон Хитроу, Великобритания (LHR)', 'Лондон Гатвик, Великобритания (LGW)', 'Лондон, Великобритания (LON)', 'Лондон Лутон, Великобритания (LTN)', 'Лондон Стенстед, Великобритания (STN)', 'Лондон Лондон-Сити, Великобритания (LCY)', 'Лондон Соутенд Муниципал, Великобритания (SEN)', 'Лондрина, Бразилия (LDB)', 'Лондон, Канада (YXU)', 'Лондолози, ЮАР (LDZ)', 'Ист-Лондон, ЮАР (ELS)', 'Оксфорд, Великобритания (OXF)', 'Гонконг, Гонконг (HKG)', 'Бангкок Дон-Муанг, Таиланд (DMK)', 'Лион, Франция (LYS)', 'Бангкок, Таиланд (BKK)', 'Хошимин, Вьетнам (SGN)', 'Пхукет, Таиланд (HKT)', 'Тель-Авив, Израиль (TLV)', 'Лион Сент-Экзюпери, Франция (LYS)']\n"
     ]
    }
   ],
   "source": [
    "def data_to_list(data):\n",
    "    return_list = []\n",
    "    for element in data:\n",
    "        type = element['type']\n",
    "\n",
    "        if type == \"city\":\n",
    "            city = element['name']\n",
    "            country = element['country_name']\n",
    "            code = f\"({element['code']})\"\n",
    "            return_list.append(f\"{city}, {country} {code}\")\n",
    "\n",
    "        elif type == \"airport\":\n",
    "            city = element['city_name']\n",
    "            country = element['country_name']\n",
    "            code = f\"({element['code']})\"\n",
    "            airport_name = element['name']\n",
    "            return_list.append(f\"{city} {airport_name}, {country} {code}\")\n",
    "    return return_list\n",
    "\n",
    "\n",
    "print(data_to_list(city_variants))\n"
   ]
  },
  {
   "cell_type": "code",
   "execution_count": 27,
   "metadata": {},
   "outputs": [
    {
     "name": "stdout",
     "output_type": "stream",
     "text": [
      "['2024-02-01/past', '2024-02-02/past', '2024-02-03/past', '2024-02-04/past', '2024-02-05/past', '2024-02-06/past', '2024-02-07/past', '2024-02-08/past', '2024-02-09/past', '2024-02-10', '2024-02-11', '2024-02-12', '2024-02-13', '2024-02-14', '2024-02-15', '2024-02-16', '2024-02-17', '2024-02-18', '2024-02-19', '2024-02-20', '2024-02-21', '2024-02-22', '2024-02-23', '2024-02-24', '2024-02-25', '2024-02-26', '2024-02-27', '2024-02-28', '2024-02-29']\n"
     ]
    }
   ],
   "source": [
    "\n",
    "from datetime import datetime, timedelta\n",
    "import calendar\n",
    "\n",
    "def calendar_keyboard():\n",
    "    # Получаем текущий год и месяц\n",
    "    now = datetime.now()\n",
    "    year, month = now.year, now.month\n",
    "    num_days = calendar.monthrange(year, month)[1] # Определяем количество дней в месяце\n",
    "    # Генерируем список всех дней месяца\n",
    "    days_list = []\n",
    "    for day in range(1, num_days + 1):\n",
    "        current_day = datetime(year, month, day)\n",
    "        if current_day.date() < now.date():\n",
    "            days_list.append(current_day.strftime(\"%Y-%m-%d\") + \"/past\") # Если день уже прошел, добавляем пометку \"(past)\"\n",
    "        else:\n",
    "            days_list.append(current_day.strftime(\"%Y-%m-%d\") )# Иначе добавляем день без пометки\n",
    "\n",
    "    return days_list\n",
    "\n",
    "    \n",
    "\n",
    "\n",
    "\n",
    "day_list = calendar_keyboard()\n",
    "print(day_list)\n",
    "\n"
   ]
  },
  {
   "cell_type": "code",
   "execution_count": 28,
   "metadata": {},
   "outputs": [
    {
     "name": "stdout",
     "output_type": "stream",
     "text": [
      "0\n",
      "1\n",
      "2\n",
      "3\n",
      "4\n",
      "5\n"
     ]
    }
   ],
   "source": [
    "for x in range(6):\n",
    "    print(x)"
   ]
  },
  {
   "cell_type": "code",
   "execution_count": null,
   "metadata": {},
   "outputs": [],
   "source": [
    "import requests\n",
    "import json\n",
    "\n",
    "req = requests.get(\"https://api4.aviakassa.com/v4/avia/search?adt=1&chd=0&inf=0&segments%5B0%5D%5Bfrom%5D=MOW&segments%5B0%5D%5Bto%5D=BKK&segments%5B0%5D%5Bdate%5D=09.03.2024&class=e&channelCode=AKV4AVSL&lang=ru&uuid=06ff2ca7-0d1c-4bef-b6c5-1b6b734fa537&partner=AK&getparams%5Bmarker%5D=kvrdqb9lj4sg&getparams%5Bhit_token%5D=8672_20240206185335730287%3A4b0df049b96473979a6780266b2a1fe1&getparams%5Butm_source%5D=\")\n"
   ]
  },
  {
   "cell_type": "code",
   "execution_count": 30,
   "metadata": {},
   "outputs": [],
   "source": [
    "import requests\n",
    "import json\n",
    "\n",
    "req = requests.get(\"https://api4.aviakassa.com/v4/avia/search-result?sro=AKV4AVSLOWE1000000090MOWBKK20240309_RU&lang=ru&uuid=06ff2ca7-0d1c-4bef-b6c5-1b6b734fa537\")\n",
    "\n",
    "print(req.status_code)\n",
    "\n",
    "with open(\"response.json\", \"w\") as f:\n",
    "    json.dump(req.json(), f, indent=3)"
   ]
  },
  {
   "cell_type": "code",
   "execution_count": null,
   "metadata": {},
   "outputs": [],
   "source": [
    "import asyncpg\n",
    "import asyncio\n",
    "\n",
    "async def create_connection():\n",
    "    return await asyncpg.connect(user='postgres', password='yourpassword',\n",
    "                                 database='yourdatabase', host='127.0.0.1')\n",
    "\n",
    "async def main():\n",
    "    conn = await create_connection()\n",
    "    # Выполнение запроса\n",
    "    values = await conn.fetch('''SELECT * FROM your_table''')\n",
    "    print(values)\n",
    "    # Закрытие соединения\n",
    "    await conn.close()\n",
    "\n",
    "loop = asyncio.get_event_loop()\n",
    "loop.run_until_complete(main())"
   ]
  },
  {
   "cell_type": "code",
   "execution_count": 110,
   "metadata": {},
   "outputs": [
    {
     "name": "stdout",
     "output_type": "stream",
     "text": [
      "{\"data\":[{\"flight_number\":\"270\",\"link\":\"/search/MOW0203BKK1?t=SU17094069001709454000000545SVOBKK_498d48437c8cfcb47a0faed75347339c_25288\\u0026search_date=01032024\\u0026expected_price_uuid=f98041aa-b4f9-4e45-85d6-b8718cfd5f03\\u0026expected_price_source=share\\u0026expected_price_currency=rub\\u0026expected_price=25288\",\"origin_airport\":\"SVO\",\"destination_airport\":\"BKK\",\"departure_at\":\"2024-03-02T19:15:00+03:00\",\"airline\":\"SU\",\"destination\":\"BKK\",\"origin\":\"MOW\",\"price\":25288,\"return_transfers\":0,\"duration\":545,\"duration_to\":545,\"duration_back\":0,\"transfers\":0}],\"currency\":\"rub\",\"success\":true}\n"
     ]
    }
   ],
   "source": [
    "import requests\n",
    "import json\n",
    "token = \"0078593117e70b6ea9e36d79ddc0b354\"\n",
    "departure_date = \"2024-03-02\"\n",
    "# return_date = \"2024-03-20\"\n",
    "return_date = \"\"\n",
    "departure_code = \"MOW\"\n",
    "destination_code = \"BKK\"\n",
    "# destination_code = \"BCN\"\n",
    "\n",
    "is_direct = \"true\"\n",
    "one_way = \"true\"\n",
    "\n",
    "# currency = \"GBP\"\n",
    "# currency = \"rub\"\n",
    "currency = \"rub\"\n",
    "\n",
    "\n",
    "\n",
    "def find_direct():\n",
    "    url = f\"https://api.travelpayouts.com/aviasales/v3/prices_for_dates?origin={departure_code}&destination={destination_code}&departure_at={departure_date}&return_at={return_date}&unique=true&sorting=price&direct={is_direct}&currency={currency}&limit=60&page=1&one_way={one_way}&token={token}\"\n",
    "    req = requests.get(url)\n",
    "    return req \n",
    "\n",
    "def find_group():\n",
    "    url = f\"https://api.travelpayouts.com/aviasales/v3/grouped_prices?origin={departure_code}&destination={destination_code}&cy=rub&departure_at={departure_date}&group_by=departure_at&token={token}&market=ru&direct=true&trip_duration=0 \"\n",
    "    req = requests.get(url)\n",
    "    return req \n",
    "\n",
    "def find_anomally(): # неподходит, ищет аномальные билеты, за огромный период времени \n",
    "    url = f\"https://api.travelpayouts.com/aviasales/v3/get_special_offers?origin={departure_code}&destination={destination_code}&airline=false&locale=en&token={token}\"\n",
    "    req = requests.get(url)\n",
    "    return req \n",
    "\n",
    "\n",
    "def find_latest_prices():\n",
    "    currency = \"rub\"\n",
    "    origin = \"MIL\"\n",
    "    destination = \"BCN\"\n",
    "    beginning_of_period = \"\" # the beginning of the period, within which the dates of departure fall. Must be specified if period_type is equal to a month.\n",
    "    one_way = \"true\"\n",
    "    trip_class = \"0\"\n",
    "\n",
    "    period_rype = \"day\" # year, month, day\n",
    "    show_to_affiliates = \"true\"\n",
    "    token = \"0078593117e70b6ea9e36d79ddc0b354\"\n",
    "\n",
    "    url = f\"\"\"http://api.travelpayouts.com/aviasales/v3/get_latest_prices?\n",
    "    currency={currency}&\n",
    "    period_type={period_rype}&\n",
    "    page=1&\n",
    "    limit=30&\n",
    "    show_to_affiliates={show_to_affiliates}&\n",
    "    sorting=price&\n",
    "    origin={origin}&\n",
    "    destination={destination}&\n",
    "    one_way={one_way}&\n",
    "    trip_class={trip_class}&\n",
    "    token={token}\n",
    "    \"\"\"\n",
    "\n",
    "    url = f\"\"\"http://api.travelpayouts.com/aviasales/v3/get_latest_prices?currency={currency}&period_type={period_rype}&page=1&limit=30&show_to_affiliates={show_to_affiliates}&sorting=price&origin={origin}&destination={destination}&one_way={one_way}&trip_class={trip_class}&token={token}\"\"\"\n",
    "    req = requests.get(url)\n",
    "    return req \n",
    "\n",
    "# response = find_group()\n",
    "response = find_direct()\n",
    "# response = find_anomally()\n",
    "# response = find_latest_prices()\n",
    "# print(response.text)\n",
    "\n",
    "with open(\"aviasales_response.json\", \"w\") as f:\n",
    "    json.dump(response.json(), f, indent=3)\n",
    "print(response.text)"
   ]
  },
  {
   "cell_type": "code",
   "execution_count": 91,
   "metadata": {},
   "outputs": [],
   "source": [
    "# BKK, MOW, 2024-02-19, true\n",
    "\n",
    "def async_find_ticket(\n",
    "        origin = \"BKK\", \n",
    "        destination = \"MOW\", \n",
    "        departure_at = \"2024-02-19\", \n",
    "        direct = \"true\", \n",
    "\n",
    "        one_way=\"true\", \n",
    "        currency=\"rub\", \n",
    "        return_at=\"\", \n",
    "        market=\"ru\",\n",
    "        limit=\"30\", \n",
    "        page=\"1\", \n",
    "        sorting=\"price\",\n",
    "        unique=\"false\",\n",
    "        token=token ):\n",
    "    # currency = \"\" # — the currency of prices. The default value is RUB\n",
    "    # origin = \"\" # — An IATA code of a city or an airport of the origin\n",
    "    # destination = \"\" # — An IATA code of a city or an airport of the destination (if you don't specify the origin parameter, you must set the destination)\n",
    "    # departure_at = \"\" # — the departure date (YYYY-MM or YYYY-MM-DD)\n",
    "    # return_at = \"\" # — the return date. For one-way tickets do not specify it\n",
    "    # one_way = \"\" # —one-way tickets, possible values: true or false. If true, returns 1 ticket. Use false to get offers for return tickets as well.\n",
    "    # direct = \"\" # — non-stop tickets, possible values: true or false. By default:  false\n",
    "    # market = \"\" # — sets the market of the data source (by default, ru)\n",
    "    # limit = \"\" # — the total number of records on a page. The default value — 30. The maximum value — 1000\n",
    "    # page = \"\" # — a page number, is used to get a limited amount of results. For example, if we want to get the entries from 100 to 150, we need to set page=3, and limit=50\n",
    "    # sorting = \"\" # — the assorting of prices: by price/route\n",
    "    #     # by the price (the default value). For the directions, only city — city assorting by the price is possible\n",
    "    #     # by the popularity of a route.\n",
    "    # unique = \"\" # — returning only unique routes, if only origin specified, true or false. By default: false\n",
    "    # token = \"\" # — your API token.\n",
    "\n",
    "    url = f\"https://api.travelpayouts.com/aviasales/v3/prices_for_dates?currency={currency}&origin={origin}&destination={destination}&departure_at={departure_at}&return_at={return_at}&one_way={one_way}&direct={direct}&market={market}&limit={limit}&page={page}&sorting={sorting}&unique={unique}&token={token}\"\n",
    "    response = requests.get(url)\n",
    "\n",
    "    with open(\"aviasales_response.json\", \"w\") as f:\n",
    "        json.dump(response.json(), f, indent=3)\n",
    "\n",
    "\n",
    "async_find_ticket()\n"
   ]
  },
  {
   "cell_type": "code",
   "execution_count": 94,
   "metadata": {},
   "outputs": [],
   "source": [
    "import urllib3\n",
    "\n",
    "http = urllib3.PoolManager()\n",
    "\n",
    "def send_telegram(message):\n",
    "    url = \"https://api.telegram.org/bot6909326809:AAGNbVy0xN1wpNP3hJzhUba0z95eFhp20I0/sendMessage\"\n",
    "    \n",
    "    # chat_id = \"-4131460781\"\n",
    "    chat_id = \"89221080\"\n",
    "    data = {\n",
    "        \"chat_id\": chat_id,\n",
    "        \"text\": message\n",
    "    }\n",
    "\n",
    "    encoded_data = json.dumps(data).encode('utf-8')\n",
    "\n",
    "    # response = http.request('POST', url, body=encoded_data)\n",
    "    response = http.request('POST', url, fields=data)\n",
    "\n",
    "send_telegram(\"hello\")"
   ]
  },
  {
   "cell_type": "code",
   "execution_count": 95,
   "metadata": {},
   "outputs": [
    {
     "ename": "ModuleNotFoundError",
     "evalue": "No module named 'psycopg2'",
     "output_type": "error",
     "traceback": [
      "\u001b[0;31m---------------------------------------------------------------------------\u001b[0m",
      "\u001b[0;31mModuleNotFoundError\u001b[0m                       Traceback (most recent call last)",
      "\u001b[1;32m/Users/antonkozlov/Desktop/Codes/AviaGram/poligon.ipynb Cell 12\u001b[0m line \u001b[0;36m1\n\u001b[0;32m----> <a href='vscode-notebook-cell:/Users/antonkozlov/Desktop/Codes/AviaGram/poligon.ipynb#X20sZmlsZQ%3D%3D?line=0'>1</a>\u001b[0m \u001b[39mimport\u001b[39;00m \u001b[39mpsycopg2\u001b[39;00m\n\u001b[1;32m      <a href='vscode-notebook-cell:/Users/antonkozlov/Desktop/Codes/AviaGram/poligon.ipynb#X20sZmlsZQ%3D%3D?line=3'>4</a>\u001b[0m \u001b[39m# пытаемся подключиться к базе данных\u001b[39;00m\n\u001b[1;32m      <a href='vscode-notebook-cell:/Users/antonkozlov/Desktop/Codes/AviaGram/poligon.ipynb#X20sZmlsZQ%3D%3D?line=4'>5</a>\u001b[0m conn \u001b[39m=\u001b[39m psycopg2\u001b[39m.\u001b[39mconnect(dbname\u001b[39m=\u001b[39m\u001b[39m'\u001b[39m\u001b[39mAviaGram\u001b[39m\u001b[39m'\u001b[39m, user\u001b[39m=\u001b[39m\u001b[39m'\u001b[39m\u001b[39mpostgres\u001b[39m\u001b[39m'\u001b[39m, password\u001b[39m=\u001b[39m\u001b[39m'\u001b[39m\u001b[39mpostgres\u001b[39m\u001b[39m'\u001b[39m, host\u001b[39m=\u001b[39m\u001b[39m'\u001b[39m\u001b[39mlocalhost\u001b[39m\u001b[39m'\u001b[39m)\n",
      "\u001b[0;31mModuleNotFoundError\u001b[0m: No module named 'psycopg2'"
     ]
    }
   ],
   "source": [
    "import psycopg2\n",
    "\n",
    "\n",
    "# пытаемся подключиться к базе данных\n",
    "conn = psycopg2.connect(dbname='AviaGram', user='postgres', password='postgres', host='localhost')\n",
    "cursor_obj = conn.cursor()"
   ]
  },
  {
   "cell_type": "code",
   "execution_count": 107,
   "metadata": {},
   "outputs": [
    {
     "name": "stdout",
     "output_type": "stream",
     "text": [
      "AZN 🇦🇿\n",
      "BYN 🇧🇾\n",
      "CNY 🇨🇳\n",
      "EUR 🇪🇺\n",
      "GBP 🇬🇧\n",
      "ILS 🇮🇱\n",
      "INR 🇮🇳\n",
      "KES 🇰🇪\n",
      "KGS 🇰🇬\n",
      "KZT 🇰🇿\n",
      "MDL 🇲🇩\n",
      "PLN 🇵🇱\n",
      "RON 🇷🇴\n",
      "RUB 🇷🇺\n",
      "THB 🇹🇭\n",
      "TJS 🇹🇯\n",
      "TZS 🇹🇿\n",
      "UAH 🇺🇦\n",
      "USD 🇺🇸\n",
      "UZS 🇺🇿\n",
      "ZAR 🇿🇦\n"
     ]
    }
   ],
   "source": [
    "# curlist = [\n",
    "#     [\"AZN\", \"🇦🇿\"],\n",
    "#     [\"BYN\", \"🇧🇾\"],\n",
    "#     [\"CNY\", \"🇨🇳\"],\n",
    "#     [\"EUR\", \"🇪🇺\"],\n",
    "#     [\"GBP\", \"🇬🇧\"],\n",
    "#     [\"ILS\", \"🇮🇱\"],\n",
    "#     [\"INR\", \"🇮🇳\"],\n",
    "#     [\"KES\", \"🇰🇪\"],\n",
    "#     [\"KGS\", \"🇰🇬\"],\n",
    "#     [\"KZT\", \"🇰🇿\"],\n",
    "#     [\"MDL\", \"🇲🇩\"],\n",
    "#     [\"PLN\", \"🇵🇱\"],\n",
    "#     [\"RON\", \"🇷🇴\"],\n",
    "#     [\"RUB\", \"🇷🇺\"],\n",
    "#     [\"THB\", \"🇹🇭\"],\n",
    "#     [\"TJS\", \"🇹🇯\"],\n",
    "#     [\"TZS\", \"🇹🇿\"],\n",
    "#     [\"UAH\", \"🇺🇦\"],\n",
    "#     [\"USD\", \"🇺🇸\"],\n",
    "#     [\"UZS\", \"🇺🇿\"],\n",
    "#     [\"ZAR\", \"🇿🇦\"]\n",
    "# ]\n",
    "\n",
    "with open(\"currencies_avia.json\", \"r\") as f:\n",
    "    curlist = json.load(f)\n",
    "\n",
    "\n",
    "for x,y in curlist:\n",
    "    print(f\"{x} {y}\")"
   ]
  }
 ],
 "metadata": {
  "kernelspec": {
   "display_name": "Python 3",
   "language": "python",
   "name": "python3"
  },
  "language_info": {
   "codemirror_mode": {
    "name": "ipython",
    "version": 3
   },
   "file_extension": ".py",
   "mimetype": "text/x-python",
   "name": "python",
   "nbconvert_exporter": "python",
   "pygments_lexer": "ipython3",
   "version": "3.9.6"
  }
 },
 "nbformat": 4,
 "nbformat_minor": 2
}
